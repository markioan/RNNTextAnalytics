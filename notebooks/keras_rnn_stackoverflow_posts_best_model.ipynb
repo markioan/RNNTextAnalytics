{
 "cells": [
  {
   "cell_type": "markdown",
   "metadata": {
    "collapsed": true
   },
   "source": [
    "# Evaluation, Prediction & Visualization for the Best Model"
   ]
  },
  {
   "cell_type": "code",
   "execution_count": 1,
   "metadata": {},
   "outputs": [
    {
     "name": "stderr",
     "output_type": "stream",
     "text": [
      "Using TensorFlow backend.\n"
     ]
    }
   ],
   "source": [
    "import sys\n",
    "import os\n",
    "from os import pardir, getcwd\n",
    "from os.path import join, abspath\n",
    "PARENT_DIRECTORY = abspath(join(getcwd(), pardir))\n",
    "sys.path.insert(0, PARENT_DIRECTORY)\n",
    "\n",
    "import warnings\n",
    "import sklearn.exceptions\n",
    "import numpy as np\n",
    "warnings.filterwarnings(\"ignore\", category=sklearn.exceptions.UndefinedMetricWarning)\n",
    "warnings.simplefilter(action='ignore', category=FutureWarning)\n",
    "\n",
    "from definitions import TALOS_DIR\n",
    "from app.preprocessing import (load_dataset,\n",
    "                               load_embeddings,\n",
    "                               preprocess_data,\n",
    "                               save_embeddings_matrix)\n",
    "from app.models import (load_bi_gru_model, \n",
    "                        load_bi_lstm_model, \n",
    "                        find_best_model_over_scan_logs)\n",
    "\n",
    "from app.visualization import (plot_prediction_metrics,\n",
    "                               create_clf_report,\n",
    "                               plot_confusion_matrix)\n",
    "\n",
    "#Comment out In case of Testing use only a set of the tags as dataset\n",
    "# tags_categories = ['c', 'python', 'java']\n",
    "# RUN_STATE = 'testing'\n",
    "\n",
    "#Comment out In case of Production use all the tags of the dataset\n",
    "tags_categories = \"__all__\"\n",
    "RUN_STATE = 'production'\n"
   ]
  },
  {
   "cell_type": "code",
   "execution_count": 2,
   "metadata": {},
   "outputs": [
    {
     "name": "stdout",
     "output_type": "stream",
     "text": [
      "python    2000.0\n",
      "c         2000.0\n",
      "java      2000.0\n",
      "Name: tags, dtype: float64 ['python', 'c', 'java'] 3\n"
     ]
    }
   ],
   "source": [
    "data = load_dataset(tags_categories=tags_categories, load_from_pickle=True)\n",
    "classes_counts =data['tags'].value_counts().where(lambda cls: cls > 0).dropna() \n",
    "Classes = list(classes_counts.index)\n",
    "Nclasses = len(Classes)\n",
    "print(classes_counts, Classes, Nclasses)"
   ]
  },
  {
   "cell_type": "markdown",
   "metadata": {},
   "source": [
    " ### Hyper parameter tuning for the  model"
   ]
  },
  {
   "cell_type": "code",
   "execution_count": 3,
   "metadata": {},
   "outputs": [],
   "source": [
    "# 80% Train & 20% Test\n",
    "# 70% Train-Dev % 30* Train-Dev \n",
    "embeddings_voc, embeddings_vec = load_embeddings(load_from_pickle=True)\n",
    "model_data = preprocess_data(data,\n",
    "                             'tags',\n",
    "                             'post',\n",
    "                             cv_split_full=0.2,\n",
    "                             cv_split_dev=0.125)"
   ]
  },
  {
   "cell_type": "markdown",
   "metadata": {},
   "source": [
    "### Find the Best Model Against the Talos Scans"
   ]
  },
  {
   "cell_type": "code",
   "execution_count": 12,
   "metadata": {},
   "outputs": [],
   "source": [
    "\n",
    "# RNN BiGRU Talos configuration filepath \n",
    "TALOS_BiGRU_DEEP_LOG_FILENAME = 'talos_bigru_deep_log_.csv'\n",
    "talos_bigru_deep_log_pathname = os.path.join(TALOS_DIR, TALOS_BiGRU_DEEP_LOG_FILENAME)\n",
    "\n",
    "TALOS_BiGRU_DEEP_MUTLI_LOG_FILENAME = 'talos_bigru_deep_multi_log_.csv'\n",
    "talos_bigru_deep_multi_log_pathname = os.path.join(TALOS_DIR, TALOS_BiGRU_DEEP_MUTLI_LOG_FILENAME)\n",
    "\n",
    "# RNN BiLSTM Talos configuration filepath\n",
    "TALOS_LSTM_DEEP_LOG_FILENAME = 'talos_lstm_deep_log_.csv'\n",
    "talos_lstm_deep_log_pathname = os.path.join(TALOS_DIR, TALOS_LSTM_DEEP_LOG_FILENAME)\n",
    "\n",
    "TALOS_LSTM_DEEP_MULTI_LOG_FILENAME = 'talos_lstm_deep_multi_log_.csv'\n",
    "talos_lstm_deep_multi_log_pathname = os.path.join(TALOS_DIR, TALOS_LSTM_DEEP_MULTI_LOG_FILENAME)\n",
    "\n",
    "best_model_params = find_best_model_over_scan_logs('val_f1', *[talos_bigru_deep_log_pathname,\n",
    "                                                               talos_bigru_deep_multi_log_pathname,\n",
    "                                                               talos_lstm_deep_log_pathname,\n",
    "                                                               talos_lstm_deep_multi_log_pathname])\n"
   ]
  },
  {
   "cell_type": "markdown",
   "metadata": {},
   "source": [
    "    Check the model type and load the relevant processed data"
   ]
  },
  {
   "cell_type": "code",
   "execution_count": 13,
   "metadata": {
    "scrolled": true
   },
   "outputs": [
    {
     "data": {
      "text/plain": [
       "{'accuracy': 0.960453516123246,\n",
       " 'batch_size': 64,\n",
       " 'categorical_accuracy': 0.939591836734694,\n",
       " 'dense': 300,\n",
       " 'early_stopping': True,\n",
       " 'early_stopping_config__min_delta': 0,\n",
       " 'early_stopping_config__mode': 'max',\n",
       " 'early_stopping_config__monitor': 'val_f1',\n",
       " 'early_stopping_config__patience': 5,\n",
       " 'embedding_dim': 300,\n",
       " 'embeddings_dropout': 0.2,\n",
       " 'embeddings_matrix_path': 'embeddings-matrix-pickle',\n",
       " 'epochs': 3,\n",
       " 'f1': 0.9399723597935268,\n",
       " 'gru_size': nan,\n",
       " 'loss': 0.17908514921002242,\n",
       " 'lstm_size': 200,\n",
       " 'mlp_activation': 'softmax',\n",
       " 'mlp_dropout': 0.2,\n",
       " 'model_type': 'keras_deep_LSTM_model',\n",
       " 'multistack_run': False,\n",
       " 'optimizer': 'Adam',\n",
       " 'precision': 0.9499369137303358,\n",
       " 'recall': 0.9303401360544218,\n",
       " 'rnn_activation': 'tanh',\n",
       " 'round_epochs': 3,\n",
       " 'val_accuracy': 0.973968251546224,\n",
       " 'val_categorical_accuracy': 0.96,\n",
       " 'val_f1': 0.9605989728655134,\n",
       " 'val_loss': 0.14250475163970674,\n",
       " 'val_precision': 0.9670416695731028,\n",
       " 'val_recall': 0.9542857142857144,\n",
       " 'var_dropout': 0.6,\n",
       " 'visualize_process': True,\n",
       " 'with_early_stoping': True}"
      ]
     },
     "execution_count": 13,
     "metadata": {},
     "output_type": "execute_result"
    }
   ],
   "source": [
    "best_model_params"
   ]
  },
  {
   "cell_type": "code",
   "execution_count": 14,
   "metadata": {},
   "outputs": [],
   "source": [
    "\n",
    "if best_model_params['model_type'] in [\"keras_deep_BiGRU_model\",\n",
    "                                       \"keras_deep_BiGRU_multi_model\"]:\n",
    "    talos_model_method = load_bi_gru_model\n",
    "\n",
    "elif best_model_params['model_type'] in [\"keras_deep_LSTM_model\", \n",
    "                                         \"keras_deep_LSTM_multi_model\"]:\n",
    "    talos_model_method = load_bi_lstm_model"
   ]
  },
  {
   "cell_type": "markdown",
   "metadata": {},
   "source": [
    "    Train the model with the best params"
   ]
  },
  {
   "cell_type": "code",
   "execution_count": 15,
   "metadata": {},
   "outputs": [
    {
     "name": "stderr",
     "output_type": "stream",
     "text": [
      "W0714 22:21:34.632545 140607084488512 deprecation_wrapper.py:119] From /home/giannhs/miniconda3/envs/text_analytics/lib/python3.7/site-packages/keras/backend/tensorflow_backend.py:4138: The name tf.random_uniform is deprecated. Please use tf.random.uniform instead.\n",
      "\n",
      "W0714 22:21:34.645857 140607084488512 deprecation_wrapper.py:119] From /home/giannhs/miniconda3/envs/text_analytics/lib/python3.7/site-packages/keras/backend/tensorflow_backend.py:174: The name tf.get_default_session is deprecated. Please use tf.compat.v1.get_default_session instead.\n",
      "\n",
      "W0714 22:21:34.646572 140607084488512 deprecation_wrapper.py:119] From /home/giannhs/miniconda3/envs/text_analytics/lib/python3.7/site-packages/keras/backend/tensorflow_backend.py:181: The name tf.ConfigProto is deprecated. Please use tf.compat.v1.ConfigProto instead.\n",
      "\n",
      "W0714 22:21:34.924051 140607084488512 deprecation.py:506] From /home/giannhs/miniconda3/envs/text_analytics/lib/python3.7/site-packages/keras/backend/tensorflow_backend.py:3445: calling dropout (from tensorflow.python.ops.nn_ops) with keep_prob is deprecated and will be removed in a future version.\n",
      "Instructions for updating:\n",
      "Please use `rate` instead of `keep_prob`. Rate should be set to `rate = 1 - keep_prob`.\n",
      "W0714 22:21:35.240687 140607084488512 nn_ops.py:4224] Large dropout rate: 0.6 (>0.5). In TensorFlow 2.x, dropout() uses dropout rate instead of keep_prob. Please ensure that this is intended.\n",
      "W0714 22:21:35.262152 140607084488512 nn_ops.py:4224] Large dropout rate: 0.6 (>0.5). In TensorFlow 2.x, dropout() uses dropout rate instead of keep_prob. Please ensure that this is intended.\n",
      "W0714 22:21:35.292567 140607084488512 nn_ops.py:4224] Large dropout rate: 0.6 (>0.5). In TensorFlow 2.x, dropout() uses dropout rate instead of keep_prob. Please ensure that this is intended.\n",
      "W0714 22:21:35.323750 140607084488512 nn_ops.py:4224] Large dropout rate: 0.6 (>0.5). In TensorFlow 2.x, dropout() uses dropout rate instead of keep_prob. Please ensure that this is intended.\n",
      "W0714 22:21:35.477284 140607084488512 deprecation.py:323] From /home/giannhs/miniconda3/envs/text_analytics/lib/python3.7/site-packages/keras/backend/tensorflow_backend.py:2974: add_dispatch_support.<locals>.wrapper (from tensorflow.python.ops.array_ops) is deprecated and will be removed in a future version.\n",
      "Instructions for updating:\n",
      "Use tf.where in 2.0, which has the same broadcast rule as np.where\n",
      "W0714 22:21:35.533493 140607084488512 nn_ops.py:4224] Large dropout rate: 0.6 (>0.5). In TensorFlow 2.x, dropout() uses dropout rate instead of keep_prob. Please ensure that this is intended.\n",
      "W0714 22:21:35.889550 140607084488512 deprecation_wrapper.py:119] From /home/giannhs/miniconda3/envs/text_analytics/lib/python3.7/site-packages/keras/optimizers.py:790: The name tf.train.Optimizer is deprecated. Please use tf.compat.v1.train.Optimizer instead.\n",
      "\n"
     ]
    },
    {
     "name": "stdout",
     "output_type": "stream",
     "text": [
      "_________________________________________________________________\n",
      "Layer (type)                 Output Shape              Param #   \n",
      "=================================================================\n",
      "input_3 (InputLayer)         (None, 600)               0         \n",
      "_________________________________________________________________\n",
      "embedding_1 (Embedding)      (None, 600, 300)          6000600   \n",
      "_________________________________________________________________\n",
      "dropout_1 (Dropout)          (None, 600, 300)          0         \n",
      "_________________________________________________________________\n",
      "bidirectional_1 (Bidirection (None, 600, 400)          801600    \n",
      "_________________________________________________________________\n",
      "deep_attention_1 (DeepAttent [(None, 400), (None, 600) 160801    \n",
      "_________________________________________________________________\n",
      "dense_1 (Dense)              (None, 300)               120300    \n",
      "_________________________________________________________________\n",
      "dense_2 (Dense)              (None, 3)                 903       \n",
      "=================================================================\n",
      "Total params: 7,084,204\n",
      "Trainable params: 1,083,604\n",
      "Non-trainable params: 6,000,600\n",
      "_________________________________________________________________\n",
      "None\n"
     ]
    },
    {
     "data": {
      "application/vnd.jupyter.widget-view+json": {
       "model_id": "d6c77acfd9a047e9888159260bf39fae",
       "version_major": 2,
       "version_minor": 0
      },
      "text/plain": [
       "HBox(children=(IntProgress(value=0, description='Training', max=3, style=ProgressStyle(description_width='init…"
      ]
     },
     "metadata": {},
     "output_type": "display_data"
    },
    {
     "data": {
      "application/vnd.jupyter.widget-view+json": {
       "model_id": "",
       "version_major": 2,
       "version_minor": 0
      },
      "text/plain": [
       "HBox(children=(IntProgress(value=0, description='Epoch 0', max=4200, style=ProgressStyle(description_width='in…"
      ]
     },
     "metadata": {},
     "output_type": "display_data"
    },
    {
     "name": "stdout",
     "output_type": "stream",
     "text": [
      "\n",
      "Epoch 00001: val_accuracy improved from -inf to 0.92389, saving model to keras_deep_LSTM_model\n",
      "\n",
      "Epoch 00001: val_f1 improved from -inf to 0.87845, saving model to keras_deep_LSTM_model\n"
     ]
    },
    {
     "data": {
      "application/vnd.jupyter.widget-view+json": {
       "model_id": "",
       "version_major": 2,
       "version_minor": 0
      },
      "text/plain": [
       "HBox(children=(IntProgress(value=0, description='Epoch 1', max=4200, style=ProgressStyle(description_width='in…"
      ]
     },
     "metadata": {},
     "output_type": "display_data"
    },
    {
     "name": "stdout",
     "output_type": "stream",
     "text": [
      "\n",
      "Epoch 00002: val_accuracy improved from 0.92389 to 0.94167, saving model to keras_deep_LSTM_model\n",
      "\n",
      "Epoch 00002: val_f1 improved from 0.87845 to 0.90974, saving model to keras_deep_LSTM_model\n"
     ]
    },
    {
     "data": {
      "application/vnd.jupyter.widget-view+json": {
       "model_id": "",
       "version_major": 2,
       "version_minor": 0
      },
      "text/plain": [
       "HBox(children=(IntProgress(value=0, description='Epoch 2', max=4200, style=ProgressStyle(description_width='in…"
      ]
     },
     "metadata": {},
     "output_type": "display_data"
    },
    {
     "name": "stdout",
     "output_type": "stream",
     "text": [
      "\n",
      "Epoch 00003: val_accuracy improved from 0.94167 to 0.94722, saving model to keras_deep_LSTM_model\n",
      "\n",
      "Epoch 00003: val_f1 improved from 0.90974 to 0.91896, saving model to keras_deep_LSTM_model\n",
      "\n"
     ]
    }
   ],
   "source": [
    "# Add logging of each epoch run for the generation process of the best MLP Model\n",
    "best_model_params['visualize_process'] = True\n",
    "model_history, model = talos_model_method(model_data['x_train'],\n",
    "                                          model_data['y_train'],\n",
    "                                          model_data['x_train_dev'],\n",
    "                                          model_data['y_train_dev'],\n",
    "                                          best_model_params)"
   ]
  },
  {
   "cell_type": "markdown",
   "metadata": {},
   "source": [
    " ### Visualize Model History Scores"
   ]
  },
  {
   "cell_type": "code",
   "execution_count": 16,
   "metadata": {},
   "outputs": [
    {
     "data": {
      "image/png": "[encoded data removed]",
      "text/plain": [
       "<Figure size 432x288 with 1 Axes>"
      ]
     },
     "metadata": {
      "needs_background": "light"
     },
     "output_type": "display_data"
    },
    {
     "data": {
      "image/png": "[encoded data removed]",
      "text/plain": [
       "<Figure size 432x288 with 1 Axes>"
      ]
     },
     "metadata": {
      "needs_background": "light"
     },
     "output_type": "display_data"
    },
    {
     "data": {
      "image/png": "[encoded data removed]",
      "text/plain": [
       "<Figure size 432x288 with 1 Axes>"
      ]
     },
     "metadata": {
      "needs_background": "light"
     },
     "output_type": "display_data"
    }
   ],
   "source": [
    "from app.visualization import plot_history_metrics\n",
    "%matplotlib inline\n",
    "plot_history_metrics(model_history)"
   ]
  },
  {
   "cell_type": "markdown",
   "metadata": {},
   "source": [
    "### Evaluate performance model\n",
    "\n",
    "Evaluates the performance of the best trained model in the **test** dataset. "
   ]
  },
  {
   "cell_type": "code",
   "execution_count": 17,
   "metadata": {},
   "outputs": [
    {
     "name": "stdout",
     "output_type": "stream",
     "text": [
      "1200/1200 [==============================] - 28s 23ms/step\n",
      "\n",
      "Test f1: 0.9485\n",
      "\n",
      "Test categorical accuracy: 0.9008\n"
     ]
    }
   ],
   "source": [
    "score = model.evaluate(model_data['x_test'],\n",
    "                       model_data['y_test'],\n",
    "                       batch_size=best_model_params['batch_size'],\n",
    "                       verbose=1)\n",
    "\n",
    "print('\\nTest f1: %.4f' % (score[1]))\n",
    "print('\\nTest categorical accuracy: %.4f'% (score[2]))"
   ]
  },
  {
   "cell_type": "markdown",
   "metadata": {},
   "source": [
    "### Visualize Prediction Perfomance of centroids RNN model"
   ]
  },
  {
   "cell_type": "code",
   "execution_count": 23,
   "metadata": {},
   "outputs": [
    {
     "name": "stdout",
     "output_type": "stream",
     "text": [
      "--------------------------------------------------------------------------------\n",
      "Accuracy Score: 92.42%\n",
      "--------------------------------------------------------------------------------\n",
      "--------------------------------------------------------------------------------\n",
      "Classification Report:\n",
      "\n",
      "              precision    recall  f1-score   support\n",
      "\n",
      "           0      0.955     0.902     0.928       400\n",
      "           1      0.972     0.880     0.924       400\n",
      "           2      0.920     0.920     0.920       400\n",
      "\n",
      "   micro avg      0.948     0.901     0.924      1200\n",
      "   macro avg      0.949     0.901     0.924      1200\n",
      "weighted avg      0.949     0.901     0.924      1200\n",
      " samples avg      0.901     0.901     0.901      1200\n",
      "\n"
     ]
    },
    {
     "data": {
      "image/png": "[encoded data removed]",
      "text/plain": [
       "<Figure size 1728x1440 with 2 Axes>"
      ]
     },
     "metadata": {
      "needs_background": "light"
     },
     "output_type": "display_data"
    }
   ],
   "source": [
    "import numpy as np\n",
    "from app.visualization import (plot_prediction_metrics,\n",
    "                               create_clf_report,\n",
    "                               plot_roc_curve,\n",
    "                               plot_precision_recall_curve,\n",
    "                               plot_confusion_matrix)\n",
    "import matplotlib.pylab as plt\n",
    "\n",
    "prediction_val = model.predict(model_data['x_test'], batch_size=best_model_params['batch_size'])\n",
    "\n",
    "# returns each entry result to the classification with the relevant probabilities\n",
    "y_pred_processed = np.array([np.argmax(val) for val in prediction_val])\n",
    "y_true_processed = np.array([np.argmax(val) for val in model_data['y_test']])\n",
    "\n",
    "# If you want to see the OneVSAll ROC Curves of each class uncomment the below line\n",
    "# plot_roc_curve(model_data['y_test'], prediction_val, Classes, 1)\n",
    "\n",
    "# If you want to see the OneVSAll Precission Recall Curves of each class, comment out the below line\n",
    "# plot_precision_recall_curve(model_data['y_test'], prediction_val, Classes , 1)\n",
    "\n",
    "# If you want to get the Classification Report, comment out the below line\n",
    "create_clf_report(model_data['y_test'], (prediction_val > 0.5).astype('int32'),\n",
    "                  y_true_processed, y_pred_processed)\n",
    "\n",
    "# If you want to get the confusion matrix,comment out the below line\n",
    "plot_confusion_matrix(y_true_processed, y_pred_processed, Classes)"
   ]
  },
  {
   "cell_type": "code",
   "execution_count": null,
   "metadata": {},
   "outputs": [],
   "source": []
  }
 ],
 "metadata": {
  "kernelspec": {
   "display_name": "Python [conda env:text_analytics] *",
   "language": "python",
   "name": "conda-env-text_analytics-py"
  },
  "language_info": {
   "codemirror_mode": {
    "name": "ipython",
    "version": 3
   },
   "file_extension": ".py",
   "mimetype": "text/x-python",
   "name": "python",
   "nbconvert_exporter": "python",
   "pygments_lexer": "ipython3",
   "version": "3.7.3"
  }
 },
 "nbformat": 4,
 "nbformat_minor": 1
}
